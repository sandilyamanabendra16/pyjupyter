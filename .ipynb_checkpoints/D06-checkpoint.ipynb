{
 "cells": [
  {
   "cell_type": "markdown",
   "id": "67af694b",
   "metadata": {},
   "source": [
    "# D06 \n",
    "Missing Value, Train & Test, \n",
    "Pandas missing data is represented by two value:\n",
    "None: None is a Python singleton object that is often used for missing data in Python code.\n",
    "NaN : NaN (an acronym for Not a Number), is a special floating-point value recognized by all systems that use the standard IEEE floating-point representation\n",
    "Pandas treat None and NaN as essentially interchangeable for indicating missing or null values. To facilitate this convention, there are several useful functions for detecting, removing, and replacing null values in Pandas DataFrame :\n",
    "isnull(), notnull(), dropna(), fillna(), replace(), interpolate()"
   ]
  },
  {
   "cell_type": "code",
   "execution_count": null,
   "id": "739259fb",
   "metadata": {},
   "outputs": [],
   "source": [
    "# Libraries\n",
    "import pandas as pd\n",
    "import numpy as np\n",
    "from pydataset import data"
   ]
  },
  {
   "cell_type": "code",
   "execution_count": null,
   "id": "ac7d2e87",
   "metadata": {},
   "outputs": [],
   "source": [
    "# data\n",
    "dict1 = {'English': [100, 90, np.nan, 95,100],\n",
    "        'Maths'   : [30, 45, 56, np.nan, np.nan],\n",
    "        'Science' : [np.nan, 40, 80, 98,np.nan]}\n",
    "  \n",
    "# creating a dataframe from list\n",
    "df = pd.DataFrame(dict1, index =['S01','S02','S03','S04','S05'])\n",
    "df  "
   ]
  },
  {
   "cell_type": "code",
   "execution_count": null,
   "id": "316de491",
   "metadata": {},
   "outputs": [],
   "source": [
    "df.describe()"
   ]
  },
  {
   "cell_type": "code",
   "execution_count": null,
   "id": "c0ca704e",
   "metadata": {},
   "outputs": [],
   "source": [
    "df.info()"
   ]
  },
  {
   "cell_type": "markdown",
   "id": "0b0c96a4",
   "metadata": {},
   "source": [
    "## check missing values"
   ]
  },
  {
   "cell_type": "code",
   "execution_count": null,
   "id": "cc198546",
   "metadata": {},
   "outputs": [],
   "source": [
    "df.isnull().any() # is there any missing value in Df"
   ]
  },
  {
   "cell_type": "code",
   "execution_count": null,
   "id": "d427b503",
   "metadata": {},
   "outputs": [],
   "source": [
    "# using isnull() function  - T & F at each data point\n",
    "df.isnull()"
   ]
  },
  {
   "cell_type": "code",
   "execution_count": null,
   "id": "cc1f52e1",
   "metadata": {},
   "outputs": [],
   "source": [
    "print(\"\\n Missing in Full Data Frame :\", df.isnull().sum().sum())\n",
    "print(\"Missing in each column : \",df.isnull().sum(axis=0))\n",
    "print(\"\\n Missing in each row : \", df.isnull().sum(axis=1))"
   ]
  },
  {
   "cell_type": "code",
   "execution_count": null,
   "id": "6cacde38",
   "metadata": {},
   "outputs": [],
   "source": [
    "print('Missing values in Maths column ', pd.isnull(df.Maths).sum())\n",
    "print('Missing values in Student S02 ', pd.isnull(df.loc['S02']).sum(axis=0))"
   ]
  },
  {
   "cell_type": "code",
   "execution_count": null,
   "id": "cc4e539b",
   "metadata": {},
   "outputs": [],
   "source": [
    "df"
   ]
  },
  {
   "cell_type": "markdown",
   "id": "645f2a0d",
   "metadata": {},
   "source": [
    "## check non-missing values"
   ]
  },
  {
   "cell_type": "code",
   "execution_count": null,
   "id": "12e2f9f2",
   "metadata": {},
   "outputs": [],
   "source": [
    "df.notnull().sum().sum()"
   ]
  },
  {
   "cell_type": "markdown",
   "id": "a0778b6a",
   "metadata": {},
   "source": [
    "## Fill Missing Values"
   ]
  },
  {
   "cell_type": "code",
   "execution_count": null,
   "id": "88a401e9",
   "metadata": {},
   "outputs": [],
   "source": [
    "df"
   ]
  },
  {
   "cell_type": "code",
   "execution_count": null,
   "id": "7de54b41",
   "metadata": {},
   "outputs": [],
   "source": [
    "# Fill missing values with previous values  of rows \n",
    "df.fillna(method ='pad')\n",
    "#No previous row for S01, hence Science marks are still NaN"
   ]
  },
  {
   "cell_type": "code",
   "execution_count": null,
   "id": "5665d01b",
   "metadata": {},
   "outputs": [],
   "source": [
    "# Fill missing values with nex values  of rows \n",
    "df.fillna(method ='bfill')\n",
    "#No next row for S05, hence Maths & Science marks are still NaN "
   ]
  },
  {
   "cell_type": "code",
   "execution_count": null,
   "id": "ac599e33",
   "metadata": {},
   "outputs": [],
   "source": [
    "df['Science']"
   ]
  },
  {
   "cell_type": "code",
   "execution_count": null,
   "id": "92cf96f8",
   "metadata": {},
   "outputs": [],
   "source": [
    "# filling a column null values using fillna() \n",
    "df[\"Science\"].fillna(99, inplace = False) \n",
    "#inplace True will replace values permanently"
   ]
  },
  {
   "cell_type": "code",
   "execution_count": null,
   "id": "c0eca494",
   "metadata": {},
   "outputs": [],
   "source": [
    "# replace function\n",
    "df[\"Science\"].replace(to_replace = np.nan, value = -99) "
   ]
  },
  {
   "cell_type": "code",
   "execution_count": null,
   "id": "aa5420ad",
   "metadata": {},
   "outputs": [],
   "source": [
    "# replace all null values in DF with -100\n",
    "df.replace(to_replace = np.nan, value = -100) "
   ]
  },
  {
   "cell_type": "code",
   "execution_count": null,
   "id": "4bff57f7",
   "metadata": {},
   "outputs": [],
   "source": []
  },
  {
   "cell_type": "markdown",
   "id": "6f14e33c",
   "metadata": {},
   "source": [
    "## Interpolate\n",
    "interpolate the missing values using Linear method. Note that Linear method ignore the index and treat the values as equally spaced."
   ]
  },
  {
   "cell_type": "code",
   "execution_count": null,
   "id": "c7282081",
   "metadata": {},
   "outputs": [],
   "source": [
    "# to interpolate the missing values \n",
    "df.interpolate(method ='linear', limit_direction ='forward')"
   ]
  },
  {
   "cell_type": "code",
   "execution_count": null,
   "id": "71c3b3cb",
   "metadata": {},
   "outputs": [],
   "source": [
    "df\n",
    "# English : S02(90) - S04(95) = 5/2 = 2.25  \n",
    "# S03 = 90 + 2.25 = 92.5\n",
    "# other cases = previous value"
   ]
  },
  {
   "cell_type": "code",
   "execution_count": null,
   "id": "bd875bb8",
   "metadata": {},
   "outputs": [],
   "source": [
    "# to interpolate the missing values \n",
    "df.interpolate(method ='linear', limit_direction ='backward')"
   ]
  },
  {
   "cell_type": "markdown",
   "id": "c8705fa3",
   "metadata": {},
   "source": [
    "## Drop Missing values"
   ]
  },
  {
   "cell_type": "code",
   "execution_count": null,
   "id": "614838b2",
   "metadata": {},
   "outputs": [],
   "source": [
    "df.dropna()\n",
    "# drop rows with at least on NaN value in their row"
   ]
  },
  {
   "cell_type": "code",
   "execution_count": null,
   "id": "213a7fd8",
   "metadata": {},
   "outputs": [],
   "source": [
    "df.dropna(how = 'all')   # how = all, any\n",
    "#drop only those rows which have all row data missing, nil here"
   ]
  },
  {
   "cell_type": "code",
   "execution_count": null,
   "id": "b051ffb4",
   "metadata": {},
   "outputs": [],
   "source": [
    "df.isna().sum(axis=0)\n",
    "# 5 rows, Maths & Science have 2 each missing out of 5: hence 3 data points non-missing "
   ]
  },
  {
   "cell_type": "code",
   "execution_count": null,
   "id": "2c7ec91a",
   "metadata": {},
   "outputs": [],
   "source": [
    "df.dropna(axis=1, thresh = 4)\n",
    "# 4 non missing values in Column, then drop that columns\n",
    "# here Maths and Science "
   ]
  },
  {
   "cell_type": "code",
   "execution_count": null,
   "id": "3de57d97",
   "metadata": {},
   "outputs": [],
   "source": [
    "df.notnull().sum(axis=1)"
   ]
  },
  {
   "cell_type": "code",
   "execution_count": null,
   "id": "0c1fba75",
   "metadata": {},
   "outputs": [],
   "source": [
    "# NA on selected columns\n",
    "df.dropna(subset =['Maths','Science'], thresh=1)\n",
    "#drop those rows which have 1 non missing value : here it S05"
   ]
  },
  {
   "cell_type": "code",
   "execution_count": null,
   "id": "1e2f4013",
   "metadata": {},
   "outputs": [],
   "source": [
    "print(\"% of missing values\", df.isna().mean().mean())\n",
    "# % of mssing values\n",
    "print(\"No of Data Points \", df.shape[0] * df.shape[1])\n",
    "print(\"No of Missing Values \", df.isna().sum().sum())\n",
    "print(5/15)"
   ]
  },
  {
   "cell_type": "markdown",
   "id": "f4b75648",
   "metadata": {},
   "source": [
    "### Can we say, drop that column or row which have more than 40% values missing"
   ]
  },
  {
   "cell_type": "code",
   "execution_count": null,
   "id": "af14ed6a",
   "metadata": {},
   "outputs": [],
   "source": [
    "df.shape\n",
    "# 5 rows, 3 columns"
   ]
  },
  {
   "cell_type": "code",
   "execution_count": null,
   "id": "c0ed4a9a",
   "metadata": {},
   "outputs": [],
   "source": [
    "print('Non Missing in Column ', np.ceil(.7 * 5), ' Non Missing in Row ', np.ceil(.6 *3))"
   ]
  },
  {
   "cell_type": "code",
   "execution_count": null,
   "id": "d7bfe15b",
   "metadata": {},
   "outputs": [],
   "source": [
    "df.dropna(axis=1, thresh = np.ceil(.7 * 5))\n",
    "#keep only those columns which have non-missing values >=4 (70%)"
   ]
  },
  {
   "cell_type": "code",
   "execution_count": null,
   "id": "e67d2419",
   "metadata": {},
   "outputs": [],
   "source": [
    "#keep only those columns at most 20% missing value or at least 80% non missing values\n",
    "df.dropna(axis=1, thresh = (1.0 -.2)* df.shape[0])"
   ]
  },
  {
   "cell_type": "code",
   "execution_count": null,
   "id": "29341102",
   "metadata": {},
   "outputs": [],
   "source": [
    "df.dropna(axis=0, thresh = np.round(.7 *3,0))\n",
    "#drop rows which have at least 2 non-missing values in each row, show all columns"
   ]
  },
  {
   "cell_type": "markdown",
   "id": "d6df0514",
   "metadata": {},
   "source": [
    "## additional library\n",
    "msno"
   ]
  },
  {
   "cell_type": "code",
   "execution_count": null,
   "id": "ce1187e1",
   "metadata": {},
   "outputs": [],
   "source": [
    "#pip install missingno"
   ]
  },
  {
   "cell_type": "code",
   "execution_count": null,
   "id": "5e6b2d6d",
   "metadata": {},
   "outputs": [],
   "source": [
    "import missingno as msno\n",
    "import matplotlib.pyplot as plt\n",
    "import seaborn as sns"
   ]
  },
  {
   "cell_type": "code",
   "execution_count": null,
   "id": "eefdcddb",
   "metadata": {},
   "outputs": [],
   "source": [
    "df.info()"
   ]
  },
  {
   "cell_type": "code",
   "execution_count": null,
   "id": "25e13cbb",
   "metadata": {},
   "outputs": [],
   "source": [
    "# Gives a bar chart of the missing values\n",
    "msno.bar(df)"
   ]
  },
  {
   "cell_type": "code",
   "execution_count": null,
   "id": "942ced4a",
   "metadata": {},
   "outputs": [],
   "source": [
    "# Gives positional information of the missing values\n",
    "msno.matrix(df)\n",
    "#From the matrix plot, you can see where the missing values are located"
   ]
  },
  {
   "cell_type": "code",
   "execution_count": null,
   "id": "84c04099",
   "metadata": {},
   "outputs": [],
   "source": [
    "# Gives a heatmap of how missing values are related\n",
    "msno.heatmap(df)\n",
    "#it can sometimes reveal interesting connections between missing values of different features."
   ]
  },
  {
   "cell_type": "code",
   "execution_count": null,
   "id": "04e3748e",
   "metadata": {},
   "outputs": [],
   "source": [
    "\n",
    "plt.figure(figsize=(10,6))\n",
    "sns.heatmap(df.isna().transpose(), cmap=\"YlGnBu\", cbar_kws={'label': 'Missing Data'})\n",
    "plt.show();\n",
    "#plt.savefig(\"visualizing_missing_data_with_heatmap_Seaborn_Python.png\", dpi=100)"
   ]
  },
  {
   "cell_type": "code",
   "execution_count": null,
   "id": "c317e43e",
   "metadata": {},
   "outputs": [],
   "source": [
    "plt.figure(figsize=(10,6))\n",
    "sns.displot( data=df.isna().melt(value_name=\"missing\"),  y=\"variable\",  hue=\"missing\", multiple=\"fill\",  aspect=1.25)\n",
    "plt.show();"
   ]
  },
  {
   "cell_type": "code",
   "execution_count": null,
   "id": "fff9847c",
   "metadata": {},
   "outputs": [],
   "source": [
    "msno.dendrogram(df)"
   ]
  },
  {
   "cell_type": "code",
   "execution_count": null,
   "id": "10226cbb",
   "metadata": {},
   "outputs": [],
   "source": []
  }
 ],
 "metadata": {
  "kernelspec": {
   "display_name": "Python 3",
   "language": "python",
   "name": "python3"
  },
  "language_info": {
   "codemirror_mode": {
    "name": "ipython",
    "version": 3
   },
   "file_extension": ".py",
   "mimetype": "text/x-python",
   "name": "python",
   "nbconvert_exporter": "python",
   "pygments_lexer": "ipython3",
   "version": "3.9.0"
  }
 },
 "nbformat": 4,
 "nbformat_minor": 5
}
